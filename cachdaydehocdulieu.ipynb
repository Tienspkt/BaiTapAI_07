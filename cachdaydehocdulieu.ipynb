{
  "nbformat": 4,
  "nbformat_minor": 0,
  "metadata": {
    "colab": {
      "provenance": [],
      "authorship_tag": "ABX9TyNd8sn16HxVn10l/bO/0BJ6",
      "include_colab_link": true
    },
    "kernelspec": {
      "name": "python3",
      "display_name": "Python 3"
    },
    "language_info": {
      "name": "python"
    }
  },
  "cells": [
    {
      "cell_type": "markdown",
      "metadata": {
        "id": "view-in-github",
        "colab_type": "text"
      },
      "source": [
        "<a href=\"https://colab.research.google.com/github/Tienspkt/BaiTapAI_07/blob/main/cachdaydehocdulieu.ipynb\" target=\"_parent\"><img src=\"https://colab.research.google.com/assets/colab-badge.svg\" alt=\"Open In Colab\"/></a>"
      ]
    },
    {
      "cell_type": "code",
      "execution_count": 2,
      "metadata": {
        "id": "MIv_xyfvstWf"
      },
      "outputs": [],
      "source": [
        "from sklearn.linear_model import Perceptron"
      ]
    },
    {
      "cell_type": "code",
      "source": [
        "x=[[0,0],[0,1],[1,0],[1,1]]\n",
        "t=[0,1,1,1]\n",
        "model = Perceptron()\n",
        "model.fit(x,t)\n",
        "model.score(x,t)"
      ],
      "metadata": {
        "colab": {
          "base_uri": "https://localhost:8080/"
        },
        "id": "Bu2vT4GstGLw",
        "outputId": "6242328d-1c20-40dc-80b9-669992929efc"
      },
      "execution_count": 6,
      "outputs": [
        {
          "output_type": "execute_result",
          "data": {
            "text/plain": [
              "1.0"
            ]
          },
          "metadata": {},
          "execution_count": 6
        }
      ]
    },
    {
      "cell_type": "code",
      "source": [
        "x1=[[50,-10],[100,5],[60,-70],[1000,500]]\n",
        "y1=model.predict(x1)\n",
        "model.score(x1,y1)"
      ],
      "metadata": {
        "colab": {
          "base_uri": "https://localhost:8080/"
        },
        "id": "4QiOVsZ7vMKi",
        "outputId": "c9d5c668-d5da-4a3e-a169-269b5bde291a"
      },
      "execution_count": 7,
      "outputs": [
        {
          "output_type": "execute_result",
          "data": {
            "text/plain": [
              "1.0"
            ]
          },
          "metadata": {},
          "execution_count": 7
        }
      ]
    },
    {
      "cell_type": "code",
      "source": [
        "x2=[[0.5,0.5],[0.5,0],[0,0.5],[0.4,0]]\n",
        "y2=model.predict(x2)\n",
        "model.score(x2,y2)\n",
        "print(y2)"
      ],
      "metadata": {
        "colab": {
          "base_uri": "https://localhost:8080/"
        },
        "id": "6w8KxROKvzZd",
        "outputId": "ce67b131-16bc-4715-e81e-c5a0aff592c0"
      },
      "execution_count": 11,
      "outputs": [
        {
          "output_type": "stream",
          "name": "stdout",
          "text": [
            "[1 0 0 0]\n"
          ]
        }
      ]
    },
    {
      "cell_type": "code",
      "source": [
        "x3=[[-0.5,-0.5],[-0.5,0.5],[0.3,-0.5],[-0.1,1]]\n",
        "t2=[1,1,0,0]\n",
        "model = Perceptron()\n",
        "model.fit(x3,t2)\n",
        "model.score(x3,t2)\n",
        "\n",
        "#lệnh dạy \n"
      ],
      "metadata": {
        "colab": {
          "base_uri": "https://localhost:8080/"
        },
        "id": "ath1BI-ky2z0",
        "outputId": "128b4e71-e0b6-4ee1-fe8a-020a75adba98"
      },
      "execution_count": 32,
      "outputs": [
        {
          "output_type": "execute_result",
          "data": {
            "text/plain": [
              "1.0"
            ]
          },
          "metadata": {},
          "execution_count": 32
        }
      ]
    },
    {
      "cell_type": "code",
      "source": [
        "x4=[[0,0],[6,8],[9,10],[500,-400]]\n",
        "y3= model.predict(x4)\n",
        "model.score(x4,y3)\n",
        "print(y3)\n",
        "# thử nghiệm "
      ],
      "metadata": {
        "colab": {
          "base_uri": "https://localhost:8080/"
        },
        "id": "wEgyhhpGysE8",
        "outputId": "c1c1e492-d5c4-4a23-fa15-ea42b3298f28"
      },
      "execution_count": 31,
      "outputs": [
        {
          "output_type": "stream",
          "name": "stdout",
          "text": [
            "[0 0 0 0]\n"
          ]
        }
      ]
    },
    {
      "cell_type": "code",
      "source": [],
      "metadata": {
        "id": "vGQE74sz1vTk"
      },
      "execution_count": null,
      "outputs": []
    }
  ]
}